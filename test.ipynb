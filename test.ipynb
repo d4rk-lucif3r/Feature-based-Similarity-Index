{
 "cells": [
  {
   "cell_type": "markdown",
   "metadata": {},
   "source": [
    "# Image Similarity using Feature Based Similarity Index"
   ]
  },
  {
   "cell_type": "markdown",
   "metadata": {},
   "source": [
    "## Importing Libraries"
   ]
  },
  {
   "cell_type": "code",
   "execution_count": 3,
   "metadata": {},
   "outputs": [],
   "source": [
    "import cv2\n",
    "import numpy as np\n",
    "import gradio as gr\n",
    "import phasepack.phasecong as pc\n"
   ]
  },
  {
   "cell_type": "markdown",
   "metadata": {},
   "source": [
    "## Creating Func to calculate Gradient Magnitude"
   ]
  },
  {
   "cell_type": "code",
   "execution_count": 54,
   "metadata": {},
   "outputs": [],
   "source": [
    "def _gradient_magnitude(img: np.ndarray, img_depth: int):\n",
    "    \"\"\"\n",
    "    Calculate gradient magnitude based on Scharr operator.\n",
    "    \"\"\"\n",
    "    scharrx = cv2.Scharr(img, img_depth, 1, 0)\n",
    "    scharry = cv2.Scharr(img, img_depth, 0, 1)\n",
    "\n",
    "    return np.sqrt(scharrx ** 2 + scharry ** 2)"
   ]
  },
  {
   "cell_type": "markdown",
   "metadata": {},
   "source": [
    "## Creating Func to calculate similarity measure"
   ]
  },
  {
   "cell_type": "code",
   "execution_count": 55,
   "metadata": {},
   "outputs": [],
   "source": [
    "def _similarity_measure(x: np.array, y: np.array, constant: float):\n",
    "    \"\"\"\n",
    "    Calculate feature similarity measurement between two images\n",
    "    \"\"\"\n",
    "    numerator = 2 * x * y + constant\n",
    "    denominator = x ** 2 + y ** 2 + constant\n",
    "\n",
    "    return numerator / denominator"
   ]
  },
  {
   "cell_type": "markdown",
   "metadata": {},
   "source": [
    "## Feature Based Similarity Index"
   ]
  },
  {
   "cell_type": "code",
   "execution_count": 57,
   "metadata": {},
   "outputs": [],
   "source": [
    "def fsim(\n",
    "    img1: np.ndarray, img2: np.ndarray, T1: float = 0.85, T2: float = 160):\n",
    "    \"\"\"\n",
    "    Feature-based similarity index, based on phase congruency (PC) and image gradient magnitude (GM)\n",
    "    Args:\n",
    "        img1 -- original image\n",
    "        img2 -- image to be compared \n",
    "        T1 -- constant based on the dynamic range of PC values\n",
    "        T2 -- constant based on the dynamic range of GM values\n",
    "    \"\"\"\n",
    "    alpha = (\n",
    "        beta\n",
    "    ) = 1  # parameters used to adjust the relative importance of PC and GM features\n",
    "    fsim_list = []\n",
    "    for i in range(img1.shape[2]):\n",
    "        # Calculate the PC for original and predicted images\n",
    "        pc1_2dim = pc(\n",
    "            img1[:, :, i], nscale=4, minWaveLength=6, mult=2, sigmaOnf=0.5978\n",
    "        )\n",
    "        pc2_2dim = pc(\n",
    "            img2[:, :, i], nscale=4, minWaveLength=6, mult=2, sigmaOnf=0.5978\n",
    "        )\n",
    "\n",
    "        # pc1_2dim and pc2_2dim are tuples with the length 7, we only need the 4th element which is the PC.\n",
    "        # The PC itself is a list with the size of 6 (number of orientation). Therefore, we need to\n",
    "        # calculate the sum of all these 6 arrays.\n",
    "        pc1_2dim_sum = np.zeros((img1.shape[0], img1.shape[1]), dtype=np.float64)\n",
    "        pc2_2dim_sum = np.zeros(\n",
    "            (img2.shape[0], img2.shape[1]), dtype=np.float64\n",
    "        )\n",
    "        for orientation in range(6):\n",
    "            pc1_2dim_sum += pc1_2dim[4][orientation]\n",
    "            pc2_2dim_sum += pc2_2dim[4][orientation]\n",
    "\n",
    "        # Calculate GM for original and predicted images based on Scharr operator\n",
    "        gm1 = _gradient_magnitude(img1[:, :, i], cv2.CV_16U)\n",
    "        gm2 = _gradient_magnitude(img2[:, :, i], cv2.CV_16U)\n",
    "\n",
    "        # Calculate similarity measure for PC1 and PC2\n",
    "        S_pc = _similarity_measure(pc1_2dim_sum, pc2_2dim_sum, T1)\n",
    "        # Calculate similarity measure for GM1 and GM2\n",
    "        S_g = _similarity_measure(gm1, gm2, T2)\n",
    "\n",
    "        S_l = (S_pc ** alpha) * (S_g ** beta)\n",
    "\n",
    "        numerator = np.sum(S_l * np.maximum(pc1_2dim_sum, pc2_2dim_sum))\n",
    "        denominator = np.sum(np.maximum(pc1_2dim_sum, pc2_2dim_sum))\n",
    "        fsim_list.append(numerator / denominator)\n",
    "\n",
    "    return np.mean(fsim_list)"
   ]
  },
  {
   "cell_type": "markdown",
   "metadata": {},
   "source": [
    "## Driver Code"
   ]
  },
  {
   "cell_type": "code",
   "execution_count": 87,
   "metadata": {},
   "outputs": [],
   "source": [
    "def similarity(img1, img2):\n",
    "    if img1.shape == img2.shape:\n",
    "        score = fsim(img1, img2)\n",
    "        if score*100 > 27:\n",
    "            return \"The images are similar\"\n",
    "        else :\n",
    "            return \"The images are not similar\""
   ]
  },
  {
   "cell_type": "markdown",
   "metadata": {},
   "source": [
    "## Gradio App"
   ]
  },
  {
   "cell_type": "code",
   "execution_count": 35,
   "metadata": {},
   "outputs": [],
   "source": [
    "demo = gr.Blocks()  # Create a gradio block\n",
    "\n",
    "with demo:\n",
    "    gr.Markdown(\"# Token Classification with Spacy\")\n",
    "    gr.Markdown(\n",
    "        \"### Enter the text you want to Classify or choose from examples below\")\n",
    "    with gr.Tabs():\n",
    "        with gr.TabItem(\"Examples\"):  # If the user wants to use the examples\n",
    "            with gr.Row():\n",
    "                rad1 = gr.components.Radio(\n",
    "                    ['Image 1', 'Image 2'], label='Select Image and wait till it appears!')  # Radio button to select the article\n",
    "                # Textbox to show the article\n",
    "                img1 = gr.Image(label=\"Image 1\", shape=(300, 300))\n",
    "                rad2 = gr.components.Radio(\n",
    "                    ['Image 3', 'Image 4'], label='Select Image and wait till it appears!')  # Radio button to select the article\n",
    "                img2 = gr.Image(label=\"Image 2\", shape=(300, 300))\n",
    "            submit1 = gr.Button('Submit')\n",
    "        with gr.TabItem(\"Do it yourself!\"):  # If the user wants to enter their own text\n",
    "            with gr.Row():\n",
    "                img3 = gr.Image(label=\"Image 1\", shape=(300, 300))\n",
    "                img4 = gr.Image(label=\"Image 2\", shape=(300, 300))\n",
    "            submit2 = gr.Button('Submit')\n",
    "\n",
    "        def action1(choice):  # Function to show the article when the user selects the article\n",
    "            if choice == 'Image 1':\n",
    "                return 'images/shoe.jpg'\n",
    "            elif choice == 'Image 2':\n",
    "                return 'images/printer1.jpg'\n",
    "            elif choice == 'Image 3':\n",
    "                return 'images/shoe1.jpg'\n",
    "            elif choice == 'Image 4':\n",
    "                return 'images/printer2.jpg'\n",
    "\n",
    "        # Change the article when the user selects the article\n",
    "        rad1.change(action1, rad1, img1)\n",
    "        rad2.change(action1, rad2, img2)\n",
    "\n",
    "        # Output for the Highlighted text\n",
    "        op = gr.components.Textbox(label=\"Similarity\", lines=1)\n",
    "        \n",
    "        gr.Markdown(\n",
    "            \"### Made with ❤️ by Arsh using TrueFoundry's Gradio Deployment\")\n",
    "        gr.Markdown(\n",
    "            \"### [Github Repo]('https://github.com/d4rk-lucif3r/Feature-based-Similarity-Index)\")\n",
    "        gr.Markdown(\n",
    "            '### [Blog]()')\n",
    "\n",
    "        def fn(img1, img2):  # Main function\n",
    "            result = similarity(img1, img2)\n",
    "            return result\n",
    "\n",
    "        submit1.click(fn=fn, inputs=[img1, img2], outputs=[op])  # Submit button for the examples\n",
    "        # Submit button for the user input\n",
    "        submit2.click(fn=fn, inputs=[img3, img4], outputs=[op])\n"
   ]
  },
  {
   "cell_type": "markdown",
   "metadata": {},
   "source": [
    "## Launching Gradio App"
   ]
  },
  {
   "cell_type": "code",
   "execution_count": null,
   "metadata": {},
   "outputs": [],
   "source": [
    "\n",
    "demo.launch(server_port=8081, server_name='0.0.0.0')  # Launch the gradio block\n"
   ]
  },
  {
   "cell_type": "markdown",
   "metadata": {},
   "source": [
    "# Deploying on TrueFoundry"
   ]
  },
  {
   "cell_type": "code",
   "execution_count": null,
   "metadata": {},
   "outputs": [],
   "source": [
    "import os\n",
    "os.environ[\"TFY_HOST\"] = \"https://app.develop.truefoundry.tech/\"\n",
    "os.environ[\"TFY_API_KEY\"] = \"djE6dHJ1ZWZvdW5kcnk6QXJzaEFud2FyOmUzMjhiNg==\"\n"
   ]
  },
  {
   "cell_type": "code",
   "execution_count": null,
   "metadata": {},
   "outputs": [],
   "source": [
    "from servicefoundry import Build, DockerFileBuild, Service, Resources\n"
   ]
  },
  {
   "cell_type": "code",
   "execution_count": null,
   "metadata": {},
   "outputs": [],
   "source": [
    "\n",
    "service = Service(\n",
    "    name=\"image-similarity\",\n",
    "    image=Build(\n",
    "        build_spec=DockerFileBuild(),\n",
    "    ),\n",
    "    ports=[{\"port\": 8080}],\n",
    "    resources=Resources(memory_limit=10000, memory_request=9500,\n",
    "                        cpu_limit=8, cpu_request=7.5),\n",
    ")\n",
    "service.deploy(workspace_fqn=\"tfy-dev-cluster:arsh-dev\")\n"
   ]
  }
 ],
 "metadata": {
  "kernelspec": {
   "display_name": "lucif3r-venv",
   "language": "python",
   "name": "python3"
  },
  "language_info": {
   "codemirror_mode": {
    "name": "ipython",
    "version": 3
   },
   "file_extension": ".py",
   "mimetype": "text/x-python",
   "name": "python",
   "nbconvert_exporter": "python",
   "pygments_lexer": "ipython3",
   "version": "3.9.13"
  },
  "orig_nbformat": 4,
  "vscode": {
   "interpreter": {
    "hash": "b65d6d725763ea958f8b8f6719b2e23351d3c7695b4ad311f3375b067e57c927"
   }
  }
 },
 "nbformat": 4,
 "nbformat_minor": 2
}
