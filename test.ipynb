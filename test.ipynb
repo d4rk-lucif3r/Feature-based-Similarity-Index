{
 "cells": [
  {
   "cell_type": "markdown",
   "metadata": {},
   "source": [
    "# Image Similarity using Feature Based Similarity Index"
   ]
  },
  {
   "cell_type": "markdown",
   "metadata": {},
   "source": [
    "## Importing Libraries"
   ]
  },
  {
   "cell_type": "code",
   "execution_count": 1,
   "metadata": {},
   "outputs": [],
   "source": [
    "import cv2\n",
    "import numpy as np\n",
    "import gradio as gr\n",
    "import phasepack.phasecong as pc\n"
   ]
  },
  {
   "cell_type": "markdown",
   "metadata": {},
   "source": [
    "## Creating Func to calculate Gradient Magnitude"
   ]
  },
  {
   "cell_type": "code",
   "execution_count": 2,
   "metadata": {},
   "outputs": [],
   "source": [
    "def _gradient_magnitude(img: np.ndarray, img_depth: int):\n",
    "    \"\"\"\n",
    "    Calculate gradient magnitude based on Scharr operator.\n",
    "    \"\"\"\n",
    "    scharrx = cv2.Scharr(img, img_depth, 1, 0)\n",
    "    scharry = cv2.Scharr(img, img_depth, 0, 1)\n",
    "\n",
    "    return np.sqrt(scharrx ** 2 + scharry ** 2)"
   ]
  },
  {
   "cell_type": "markdown",
   "metadata": {},
   "source": [
    "## Creating Func to calculate similarity measure"
   ]
  },
  {
   "cell_type": "code",
   "execution_count": 3,
   "metadata": {},
   "outputs": [],
   "source": [
    "def _similarity_measure(x: np.array, y: np.array, constant: float):\n",
    "    \"\"\"\n",
    "    Calculate feature similarity measurement between two images\n",
    "    \"\"\"\n",
    "    numerator = 2 * x * y + constant\n",
    "    denominator = x ** 2 + y ** 2 + constant\n",
    "\n",
    "    return numerator / denominator"
   ]
  },
  {
   "cell_type": "markdown",
   "metadata": {},
   "source": [
    "## Feature Based Similarity Index"
   ]
  },
  {
   "cell_type": "code",
   "execution_count": 4,
   "metadata": {},
   "outputs": [],
   "source": [
    "def fsim(\n",
    "    img1: np.ndarray, img2: np.ndarray, T1: float = 0.85, T2: float = 160):\n",
    "    \"\"\"\n",
    "    Feature-based similarity index, based on phase congruency (PC) and image gradient magnitude (GM)\n",
    "    Args:\n",
    "        img1 -- original image\n",
    "        img2 -- image to be compared \n",
    "        T1 -- constant based on the dynamic range of PC values\n",
    "        T2 -- constant based on the dynamic range of GM values\n",
    "    \"\"\"\n",
    "    alpha = (\n",
    "        beta\n",
    "    ) = 1  # parameters used to adjust the relative importance of PC and GM features\n",
    "    fsim_list = []\n",
    "    for i in range(img1.shape[2]):\n",
    "        # Calculate the PC for original and predicted images\n",
    "        pc1_2dim = pc(\n",
    "            img1[:, :, i], nscale=4, minWaveLength=6, mult=2, sigmaOnf=0.5978\n",
    "        )\n",
    "        pc2_2dim = pc(\n",
    "            img2[:, :, i], nscale=4, minWaveLength=6, mult=2, sigmaOnf=0.5978\n",
    "        )\n",
    "\n",
    "        # pc1_2dim and pc2_2dim are tuples with the length 7, we only need the 4th element which is the PC.\n",
    "        # The PC itself is a list with the size of 6 (number of orientation). Therefore, we need to\n",
    "        # calculate the sum of all these 6 arrays.\n",
    "        pc1_2dim_sum = np.zeros((img1.shape[0], img1.shape[1]), dtype=np.float64)\n",
    "        pc2_2dim_sum = np.zeros(\n",
    "            (img2.shape[0], img2.shape[1]), dtype=np.float64\n",
    "        )\n",
    "        for orientation in range(6):\n",
    "            pc1_2dim_sum += pc1_2dim[4][orientation]\n",
    "            pc2_2dim_sum += pc2_2dim[4][orientation]\n",
    "\n",
    "        # Calculate GM for original and predicted images based on Scharr operator\n",
    "        gm1 = _gradient_magnitude(img1[:, :, i], cv2.CV_16U)\n",
    "        gm2 = _gradient_magnitude(img2[:, :, i], cv2.CV_16U)\n",
    "\n",
    "        # Calculate similarity measure for PC1 and PC2\n",
    "        S_pc = _similarity_measure(pc1_2dim_sum, pc2_2dim_sum, T1)\n",
    "        # Calculate similarity measure for GM1 and GM2\n",
    "        S_g = _similarity_measure(gm1, gm2, T2)\n",
    "\n",
    "        S_l = (S_pc ** alpha) * (S_g ** beta)\n",
    "\n",
    "        numerator = np.sum(S_l * np.maximum(pc1_2dim_sum, pc2_2dim_sum))\n",
    "        denominator = np.sum(np.maximum(pc1_2dim_sum, pc2_2dim_sum))\n",
    "        fsim_list.append(numerator / denominator)\n",
    "\n",
    "    return np.mean(fsim_list)"
   ]
  },
  {
   "cell_type": "markdown",
   "metadata": {},
   "source": [
    "## Driver Code"
   ]
  },
  {
   "cell_type": "code",
   "execution_count": 5,
   "metadata": {},
   "outputs": [],
   "source": [
    "def similarity(img1, img2):\n",
    "    if img1.shape == img2.shape:\n",
    "        score = fsim(img1, img2)\n",
    "        if score*100 > 27:\n",
    "            return \"The images are similar\"\n",
    "        else :\n",
    "            return \"The images are not similar\""
   ]
  },
  {
   "cell_type": "markdown",
   "metadata": {},
   "source": [
    "## Gradio App"
   ]
  },
  {
   "cell_type": "code",
   "execution_count": 6,
   "metadata": {},
   "outputs": [],
   "source": [
    "demo = gr.Blocks()  # Create a gradio block\n",
    "\n",
    "with demo:\n",
    "    gr.Markdown(\"# Image Similarity using Feature Based Similarity Index\")\n",
    "    with gr.Tabs():\n",
    "        with gr.TabItem(\"Examples\"):  # If the user wants to use the examples\n",
    "            with gr.Row():\n",
    "                rad1 = gr.components.Radio(\n",
    "                    ['Image 1', 'Image 2'], label='Select Image and wait till it appears!')  # Radio button to select the article\n",
    "                # Textbox to show the article\n",
    "                img1 = gr.Image(label=\"Image 1\", shape=(300, 300))\n",
    "                rad2 = gr.components.Radio(\n",
    "                    ['Image 3', 'Image 4'], label='Select Image and wait till it appears!')  # Radio button to select the article\n",
    "                img2 = gr.Image(label=\"Image 2\", shape=(300, 300))\n",
    "            submit1 = gr.Button('Submit')\n",
    "        with gr.TabItem(\"Do it yourself!\"):  # If the user wants to enter their own text\n",
    "            with gr.Row():\n",
    "                img3 = gr.Image(label=\"Image 1\", shape=(300, 300))\n",
    "                img4 = gr.Image(label=\"Image 2\", shape=(300, 300))\n",
    "            submit2 = gr.Button('Submit')\n",
    "\n",
    "        def action1(choice):  # Function to show the article when the user selects the article\n",
    "            if choice == 'Image 1':\n",
    "                return 'images/shoe.jpg'\n",
    "            elif choice == 'Image 2':\n",
    "                return 'images/printer1.jpg'\n",
    "            elif choice == 'Image 3':\n",
    "                return 'images/shoe1.jpg'\n",
    "            elif choice == 'Image 4':\n",
    "                return 'images/printer2.jpg'\n",
    "\n",
    "        # Change the article when the user selects the article\n",
    "        rad1.change(action1, rad1, img1)\n",
    "        rad2.change(action1, rad2, img2)\n",
    "\n",
    "        # Output for the Highlighted text\n",
    "        op = gr.components.Textbox(label=\"Similarity\", lines=1)\n",
    "        \n",
    "        gr.Markdown(\n",
    "            \"### Made with ❤️ by Arsh using TrueFoundry's Gradio Deployment\")\n",
    "        gr.Markdown(\n",
    "            \"### [Github Repo]('https://github.com/d4rk-lucif3r/Feature-based-Similarity-Index)\")\n",
    "        gr.Markdown(\n",
    "            '### [Blog]()')\n",
    "\n",
    "        def fn(img1, img2):  # Main function\n",
    "            result = similarity(img1, img2)\n",
    "            return result\n",
    "\n",
    "        submit1.click(fn=fn, inputs=[img1, img2], outputs=[op])  # Submit button for the examples\n",
    "        # Submit button for the user input\n",
    "        submit2.click(fn=fn, inputs=[img3, img4], outputs=[op])\n"
   ]
  },
  {
   "cell_type": "markdown",
   "metadata": {},
   "source": [
    "## Launching Gradio App"
   ]
  },
  {
   "cell_type": "code",
   "execution_count": 7,
   "metadata": {},
   "outputs": [
    {
     "ename": "OSError",
     "evalue": "Port 8081 is in use. If a gradio.Blocks is running on the port, you can close() it or gradio.close_all().",
     "output_type": "error",
     "traceback": [
      "\u001b[0;31m---------------------------------------------------------------------------\u001b[0m",
      "\u001b[0;31mOSError\u001b[0m                                   Traceback (most recent call last)",
      "File \u001b[0;32m~/miniforge3/lucif3r-venv/lib/python3.9/site-packages/gradio/networking.py:120\u001b[0m, in \u001b[0;36mstart_server\u001b[0;34m(blocks, server_name, server_port, ssl_keyfile, ssl_certfile, ssl_keyfile_password)\u001b[0m\n\u001b[1;32m    119\u001b[0m s \u001b[39m=\u001b[39m socket\u001b[39m.\u001b[39msocket()\n\u001b[0;32m--> 120\u001b[0m s\u001b[39m.\u001b[39;49mbind((LOCALHOST_NAME, server_port))\n\u001b[1;32m    121\u001b[0m s\u001b[39m.\u001b[39mclose()\n",
      "\u001b[0;31mOSError\u001b[0m: [Errno 48] Address already in use",
      "\nDuring handling of the above exception, another exception occurred:\n",
      "\u001b[0;31mOSError\u001b[0m                                   Traceback (most recent call last)",
      "Cell \u001b[0;32mIn [7], line 1\u001b[0m\n\u001b[0;32m----> 1\u001b[0m demo\u001b[39m.\u001b[39;49mlaunch(server_port\u001b[39m=\u001b[39;49m\u001b[39m8081\u001b[39;49m, server_name\u001b[39m=\u001b[39;49m\u001b[39m'\u001b[39;49m\u001b[39m0.0.0.0\u001b[39;49m\u001b[39m'\u001b[39;49m)\n",
      "File \u001b[0;32m~/miniforge3/lucif3r-venv/lib/python3.9/site-packages/gradio/blocks.py:1083\u001b[0m, in \u001b[0;36mBlocks.launch\u001b[0;34m(self, inline, inbrowser, share, debug, enable_queue, max_threads, auth, auth_message, prevent_thread_lock, show_error, server_name, server_port, show_tips, height, width, encrypt, favicon_path, ssl_keyfile, ssl_certfile, ssl_keyfile_password, quiet, show_api, _frontend)\u001b[0m\n\u001b[1;32m   1079\u001b[0m         \u001b[39mprint\u001b[39m(\n\u001b[1;32m   1080\u001b[0m             \u001b[39m\"\u001b[39m\u001b[39mRerunning server... use `close()` to stop if you need to change `launch()` parameters.\u001b[39m\u001b[39m\\n\u001b[39;00m\u001b[39m----\u001b[39m\u001b[39m\"\u001b[39m\n\u001b[1;32m   1081\u001b[0m         )\n\u001b[1;32m   1082\u001b[0m \u001b[39melse\u001b[39;00m:\n\u001b[0;32m-> 1083\u001b[0m     server_name, server_port, local_url, app, server \u001b[39m=\u001b[39m networking\u001b[39m.\u001b[39;49mstart_server(\n\u001b[1;32m   1084\u001b[0m         \u001b[39mself\u001b[39;49m,\n\u001b[1;32m   1085\u001b[0m         server_name,\n\u001b[1;32m   1086\u001b[0m         server_port,\n\u001b[1;32m   1087\u001b[0m         ssl_keyfile,\n\u001b[1;32m   1088\u001b[0m         ssl_certfile,\n\u001b[1;32m   1089\u001b[0m         ssl_keyfile_password,\n\u001b[1;32m   1090\u001b[0m     )\n\u001b[1;32m   1091\u001b[0m     \u001b[39mself\u001b[39m\u001b[39m.\u001b[39mserver_name \u001b[39m=\u001b[39m server_name\n\u001b[1;32m   1092\u001b[0m     \u001b[39mself\u001b[39m\u001b[39m.\u001b[39mlocal_url \u001b[39m=\u001b[39m local_url\n",
      "File \u001b[0;32m~/miniforge3/lucif3r-venv/lib/python3.9/site-packages/gradio/networking.py:123\u001b[0m, in \u001b[0;36mstart_server\u001b[0;34m(blocks, server_name, server_port, ssl_keyfile, ssl_certfile, ssl_keyfile_password)\u001b[0m\n\u001b[1;32m    121\u001b[0m         s\u001b[39m.\u001b[39mclose()\n\u001b[1;32m    122\u001b[0m     \u001b[39mexcept\u001b[39;00m \u001b[39mOSError\u001b[39;00m:\n\u001b[0;32m--> 123\u001b[0m         \u001b[39mraise\u001b[39;00m \u001b[39mOSError\u001b[39;00m(\n\u001b[1;32m    124\u001b[0m             \u001b[39m\"\u001b[39m\u001b[39mPort \u001b[39m\u001b[39m{}\u001b[39;00m\u001b[39m is in use. If a gradio.Blocks is running on the port, you can close() it or gradio.close_all().\u001b[39m\u001b[39m\"\u001b[39m\u001b[39m.\u001b[39mformat(\n\u001b[1;32m    125\u001b[0m                 server_port\n\u001b[1;32m    126\u001b[0m             )\n\u001b[1;32m    127\u001b[0m         )\n\u001b[1;32m    128\u001b[0m     port \u001b[39m=\u001b[39m server_port\n\u001b[1;32m    130\u001b[0m url_host_name \u001b[39m=\u001b[39m \u001b[39m\"\u001b[39m\u001b[39mlocalhost\u001b[39m\u001b[39m\"\u001b[39m \u001b[39mif\u001b[39;00m server_name \u001b[39m==\u001b[39m \u001b[39m\"\u001b[39m\u001b[39m0.0.0.0\u001b[39m\u001b[39m\"\u001b[39m \u001b[39melse\u001b[39;00m server_name\n",
      "\u001b[0;31mOSError\u001b[0m: Port 8081 is in use. If a gradio.Blocks is running on the port, you can close() it or gradio.close_all()."
     ]
    }
   ],
   "source": [
    "\n",
    "demo.launch(server_port=8081, server_name='0.0.0.0')  # Launch the gradio block\n"
   ]
  },
  {
   "cell_type": "markdown",
   "metadata": {},
   "source": [
    "# Deploying on TrueFoundry"
   ]
  },
  {
   "cell_type": "code",
   "execution_count": 1,
   "metadata": {},
   "outputs": [],
   "source": [
    "import os\n",
    "# os.environ[\"TFY_HOST\"] = \"https://app.truefoundry.com/\"\n",
    "# os.environ[\"TFY_API_KEY\"] = \"djE6dHJ1ZWZvdW5kcnk6QXJzaEFud2FyOmUzMjhiNg==\"\n"
   ]
  },
  {
   "cell_type": "code",
   "execution_count": 2,
   "metadata": {},
   "outputs": [],
   "source": [
    "from servicefoundry import Build, DockerFileBuild, Service, Resources\n"
   ]
  },
  {
   "cell_type": "code",
   "execution_count": 3,
   "metadata": {},
   "outputs": [
    {
     "name": "stdout",
     "output_type": "stream",
     "text": [
      "[yellow]You are logged in as 'Arsh Anwar' with email 'lucifer78908@gmail.com'[/]\n"
     ]
    }
   ],
   "source": [
    "import servicefoundry.core as sfy\n",
    "sfy.login('djE6dHJ1ZWZvdW5kcnk6QXJzaCBBbndhcjo3NmEwYzg=')"
   ]
  },
  {
   "cell_type": "code",
   "execution_count": 7,
   "metadata": {},
   "outputs": [
    {
     "data": {
      "text/plain": [
       "Deployment(id='cl9ohj3m506ki1qqq77ti7fk3', fqn='tfy-cluster-euwe1:demo-projects:image-similarity:1', version='1', manifest={'name': 'image-similarity', 'components': [{'name': 'image-similarity', 'type': 'service', 'image': {'type': 'build', 'build_spec': {'type': 'dockerfile', 'dockerfile_path': './Dockerfile', 'build_context_path': './'}, 'build_source': {'type': 'remote', 'remote_uri': 's3://tfy-ctl-euwe1-production-servicefoundry-server/tfy-cluster-euwe1:demo-projects/image-similarity/cl9ohiz7o06kg1qqqafb1btma/package.tar.gz'}}, 'ports': [{'port': 8080, 'expose': True, 'protocol': 'TCP'}], 'replicas': 1, 'resources': {'cpu_limit': '2', 'cpu_request': '1.5', 'memory_limit': '2000', 'memory_request': '1500'}}]}, createdBy='Arsh Anwar', applicationId='cl9ohj3l606kh1qqqbd5j4unu', failureReason=None, createdAt=datetime.datetime(2022, 10, 25, 17, 31, 59, 885000, tzinfo=datetime.timezone.utc), updatedAt=datetime.datetime(2022, 10, 25, 17, 31, 59, 890000, tzinfo=datetime.timezone.utc), currentStatusId='cl9ohj3m806kj1qqq2ulv9sb8')"
      ]
     },
     "execution_count": 7,
     "metadata": {},
     "output_type": "execute_result"
    }
   ],
   "source": [
    "\n",
    "service = Service(\n",
    "    name=\"image-similarity\",\n",
    "    image=Build(\n",
    "        build_spec=DockerFileBuild(),\n",
    "    ),\n",
    "    ports=[{\"port\": 8080}],\n",
    "    resources=Resources(memory_limit=2000, memory_request=1500,\n",
    "                        cpu_limit=2, cpu_request=1.5),\n",
    ")\n",
    "service.deploy(workspace_fqn=\"tfy-cluster-euwe1:demo-projects\")\n"
   ]
  },
  {
   "cell_type": "code",
   "execution_count": null,
   "metadata": {},
   "outputs": [],
   "source": []
  }
 ],
 "metadata": {
  "kernelspec": {
   "display_name": "lucif3r-venv",
   "language": "python",
   "name": "python3"
  },
  "language_info": {
   "codemirror_mode": {
    "name": "ipython",
    "version": 3
   },
   "file_extension": ".py",
   "mimetype": "text/x-python",
   "name": "python",
   "nbconvert_exporter": "python",
   "pygments_lexer": "ipython3",
   "version": "3.9.13"
  },
  "orig_nbformat": 4,
  "vscode": {
   "interpreter": {
    "hash": "b65d6d725763ea958f8b8f6719b2e23351d3c7695b4ad311f3375b067e57c927"
   }
  }
 },
 "nbformat": 4,
 "nbformat_minor": 2
}
